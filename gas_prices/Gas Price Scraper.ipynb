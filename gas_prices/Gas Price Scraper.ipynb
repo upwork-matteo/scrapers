{
 "cells": [
  {
   "cell_type": "code",
   "execution_count": 84,
   "metadata": {
    "collapsed": false
   },
   "outputs": [],
   "source": [
    "#Run with python3\n",
    "\n",
    "from bs4 import BeautifulSoup\n",
    "from urllib.request import Request, urlopen\n",
    "import pandas as pd\n",
    "import datetime"
   ]
  },
  {
   "cell_type": "code",
   "execution_count": 90,
   "metadata": {
    "collapsed": false
   },
   "outputs": [],
   "source": [
    "base_url = 'http://gasprices.aaa.com?state='\n",
    "states= ['AZ', 'NV', 'CA', 'OR', 'WA', 'VA', 'IL']\n",
    "date=datetime.datetime.now().strftime(\"%m/%d/%Y\")"
   ]
  },
  {
   "cell_type": "code",
   "execution_count": 91,
   "metadata": {
    "collapsed": true
   },
   "outputs": [],
   "source": [
    "def fetchPrices(state):\n",
    "    #setup\n",
    "    url=base_url+state\n",
    "    req=Request(url, headers={'User-Agent': 'Mozilla/5.0'})\n",
    "    html_week = urlopen(req).read()\n",
    "    soup = BeautifulSoup(html_week, 'html.parser')\n",
    "    \n",
    "    metroPrices=soup.find(\"div\", {\"class\": \"accordion-prices\"})\n",
    "    h3=metroPrices.select(\"h3\")\n",
    "    tables=metroPrices.select(\"table\")\n",
    "    \n",
    "    #create dataframe\n",
    "    rowList=[]\n",
    "    for i in range(len(h3)):\n",
    "        city=h3[i].text\n",
    "        entries=tables[i*4+2].select(\"td\")\n",
    "        regular=entries[1].text[1:]\n",
    "        mid=entries[3].text[1:]\n",
    "        premium=entries[5].text[1:]\n",
    "        diesel=entries[7].text[1:]\n",
    "        rowList.append((date, state, city, diesel, regular, mid, premium))\n",
    "    return rowList"
   ]
  },
  {
   "cell_type": "code",
   "execution_count": 92,
   "metadata": {
    "collapsed": false
   },
   "outputs": [
    {
     "name": "stdout",
     "output_type": "stream",
     "text": [
      "fetching AZ\n",
      "fetching NV\n",
      "fetching CA\n",
      "fetching OR\n",
      "fetching WA\n",
      "fetching VA\n",
      "fetching IL\n"
     ]
    }
   ],
   "source": [
    "rowList=[]\n",
    "for state in states:\n",
    "    print('fetching', state)\n",
    "    rowList+=fetchPrices(state)\n",
    "columns=['Date', 'State', 'City', 'Diesel', 'Regular', 'Mid', 'Premium']\n",
    "gas_prices=pd.DataFrame(rowList, columns=columns)"
   ]
  },
  {
   "cell_type": "code",
   "execution_count": 95,
   "metadata": {
    "collapsed": false
   },
   "outputs": [
    {
     "data": {
      "text/html": [
       "<div>\n",
       "<table border=\"1\" class=\"dataframe\">\n",
       "  <thead>\n",
       "    <tr style=\"text-align: right;\">\n",
       "      <th></th>\n",
       "      <th>Date</th>\n",
       "      <th>State</th>\n",
       "      <th>City</th>\n",
       "      <th>Diesel</th>\n",
       "      <th>Regular</th>\n",
       "      <th>Mid</th>\n",
       "      <th>Premium</th>\n",
       "    </tr>\n",
       "  </thead>\n",
       "  <tbody>\n",
       "    <tr>\n",
       "      <th>56</th>\n",
       "      <td>06/04/2016</td>\n",
       "      <td>IL</td>\n",
       "      <td>Bloomington-Normal</td>\n",
       "      <td>2.293</td>\n",
       "      <td>2.395</td>\n",
       "      <td>2.607</td>\n",
       "      <td>2.869</td>\n",
       "    </tr>\n",
       "    <tr>\n",
       "      <th>57</th>\n",
       "      <td>06/04/2016</td>\n",
       "      <td>IL</td>\n",
       "      <td>Champaign-Urbana</td>\n",
       "      <td>2.241</td>\n",
       "      <td>2.306</td>\n",
       "      <td>2.534</td>\n",
       "      <td>2.806</td>\n",
       "    </tr>\n",
       "    <tr>\n",
       "      <th>58</th>\n",
       "      <td>06/04/2016</td>\n",
       "      <td>IL</td>\n",
       "      <td>Chicago Metro</td>\n",
       "      <td>2.450</td>\n",
       "      <td>2.674</td>\n",
       "      <td>2.988</td>\n",
       "      <td>3.375</td>\n",
       "    </tr>\n",
       "    <tr>\n",
       "      <th>59</th>\n",
       "      <td>06/04/2016</td>\n",
       "      <td>IL</td>\n",
       "      <td>Decatur</td>\n",
       "      <td>2.181</td>\n",
       "      <td>2.481</td>\n",
       "      <td>2.665</td>\n",
       "      <td>2.892</td>\n",
       "    </tr>\n",
       "    <tr>\n",
       "      <th>60</th>\n",
       "      <td>06/04/2016</td>\n",
       "      <td>IL</td>\n",
       "      <td>Peoria-Pekin</td>\n",
       "      <td>2.290</td>\n",
       "      <td>2.385</td>\n",
       "      <td>2.609</td>\n",
       "      <td>2.902</td>\n",
       "    </tr>\n",
       "    <tr>\n",
       "      <th>61</th>\n",
       "      <td>06/04/2016</td>\n",
       "      <td>IL</td>\n",
       "      <td>Rockford</td>\n",
       "      <td>2.380</td>\n",
       "      <td>2.426</td>\n",
       "      <td>2.694</td>\n",
       "      <td>3.067</td>\n",
       "    </tr>\n",
       "    <tr>\n",
       "      <th>62</th>\n",
       "      <td>06/04/2016</td>\n",
       "      <td>IL</td>\n",
       "      <td>Springfield</td>\n",
       "      <td>2.159</td>\n",
       "      <td>2.369</td>\n",
       "      <td>2.562</td>\n",
       "      <td>2.835</td>\n",
       "    </tr>\n",
       "    <tr>\n",
       "      <th>63</th>\n",
       "      <td>06/04/2016</td>\n",
       "      <td>IL</td>\n",
       "      <td>Davenport-Moline-Rock Island (IL only)</td>\n",
       "      <td>2.327</td>\n",
       "      <td>2.309</td>\n",
       "      <td>2.577</td>\n",
       "      <td>2.946</td>\n",
       "    </tr>\n",
       "    <tr>\n",
       "      <th>64</th>\n",
       "      <td>06/04/2016</td>\n",
       "      <td>IL</td>\n",
       "      <td>East Saint Louis</td>\n",
       "      <td>2.442</td>\n",
       "      <td>2.474</td>\n",
       "      <td>2.661</td>\n",
       "      <td>2.896</td>\n",
       "    </tr>\n",
       "    <tr>\n",
       "      <th>65</th>\n",
       "      <td>06/04/2016</td>\n",
       "      <td>IL</td>\n",
       "      <td>Quincy</td>\n",
       "      <td>2.259</td>\n",
       "      <td>2.399</td>\n",
       "      <td>2.572</td>\n",
       "      <td>2.918</td>\n",
       "    </tr>\n",
       "    <tr>\n",
       "      <th>66</th>\n",
       "      <td>06/04/2016</td>\n",
       "      <td>IL</td>\n",
       "      <td>Danville</td>\n",
       "      <td>2.281</td>\n",
       "      <td>2.323</td>\n",
       "      <td>2.545</td>\n",
       "      <td>2.817</td>\n",
       "    </tr>\n",
       "    <tr>\n",
       "      <th>67</th>\n",
       "      <td>06/04/2016</td>\n",
       "      <td>IL</td>\n",
       "      <td>City of Chicago</td>\n",
       "      <td>2.829</td>\n",
       "      <td>2.827</td>\n",
       "      <td>3.200</td>\n",
       "      <td>3.611</td>\n",
       "    </tr>\n",
       "  </tbody>\n",
       "</table>\n",
       "</div>"
      ],
      "text/plain": [
       "          Date State                                    City Diesel Regular  \\\n",
       "56  06/04/2016    IL                      Bloomington-Normal  2.293   2.395   \n",
       "57  06/04/2016    IL                        Champaign-Urbana  2.241   2.306   \n",
       "58  06/04/2016    IL                           Chicago Metro  2.450   2.674   \n",
       "59  06/04/2016    IL                                 Decatur  2.181   2.481   \n",
       "60  06/04/2016    IL                            Peoria-Pekin  2.290   2.385   \n",
       "61  06/04/2016    IL                                Rockford  2.380   2.426   \n",
       "62  06/04/2016    IL                             Springfield  2.159   2.369   \n",
       "63  06/04/2016    IL  Davenport-Moline-Rock Island (IL only)  2.327   2.309   \n",
       "64  06/04/2016    IL                        East Saint Louis  2.442   2.474   \n",
       "65  06/04/2016    IL                                  Quincy  2.259   2.399   \n",
       "66  06/04/2016    IL                                Danville  2.281   2.323   \n",
       "67  06/04/2016    IL                         City of Chicago  2.829   2.827   \n",
       "\n",
       "      Mid Premium  \n",
       "56  2.607   2.869  \n",
       "57  2.534   2.806  \n",
       "58  2.988   3.375  \n",
       "59  2.665   2.892  \n",
       "60  2.609   2.902  \n",
       "61  2.694   3.067  \n",
       "62  2.562   2.835  \n",
       "63  2.577   2.946  \n",
       "64  2.661   2.896  \n",
       "65  2.572   2.918  \n",
       "66  2.545   2.817  \n",
       "67  3.200   3.611  "
      ]
     },
     "execution_count": 95,
     "metadata": {},
     "output_type": "execute_result"
    }
   ],
   "source": [
    "gas_prices[gas_prices['State']=='IL']"
   ]
  },
  {
   "cell_type": "code",
   "execution_count": 89,
   "metadata": {
    "collapsed": false
   },
   "outputs": [],
   "source": [
    "gas_prices.to_csv(\"aaa-price.csv\", index=False)"
   ]
  },
  {
   "cell_type": "code",
   "execution_count": null,
   "metadata": {
    "collapsed": true
   },
   "outputs": [],
   "source": []
  }
 ],
 "metadata": {
  "kernelspec": {
   "display_name": "Python 3",
   "language": "python",
   "name": "python3"
  },
  "language_info": {
   "codemirror_mode": {
    "name": "ipython",
    "version": 3
   },
   "file_extension": ".py",
   "mimetype": "text/x-python",
   "name": "python",
   "nbconvert_exporter": "python",
   "pygments_lexer": "ipython3",
   "version": "3.5.1"
  }
 },
 "nbformat": 4,
 "nbformat_minor": 0
}
